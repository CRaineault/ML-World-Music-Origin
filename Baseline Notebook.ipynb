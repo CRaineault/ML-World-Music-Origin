{
 "cells": [
  {
   "cell_type": "code",
   "execution_count": 2,
   "id": "c1e79c93",
   "metadata": {},
   "outputs": [],
   "source": [
    "#very cool notebook to mess around and try things until we get a working baseline"
   ]
  },
  {
   "cell_type": "code",
   "execution_count": 54,
   "id": "6b33c713",
   "metadata": {},
   "outputs": [],
   "source": [
    "#imports, add more as needed\n",
    "import os\n",
    "\n",
    "import numpy as np\n",
    "\n",
    "import sklearn as skl\n",
    "\n",
    "from sklearn import model_selection\n",
    "\n",
    "import tensorflow as tf\n",
    "\n",
    "from matplotlib import pyplot\n",
    "\n",
    "from geopy.geocoders import Nominatim\n",
    "\n",
    "from tensorflow.keras import Sequential\n",
    "\n",
    "from tensorflow.keras.layers import Dense\n",
    "\n",
    "from tensorflow.keras.losses import SparseCategoricalCrossentropy\n"
   ]
  },
  {
   "cell_type": "code",
   "execution_count": 4,
   "id": "d3a09959",
   "metadata": {},
   "outputs": [],
   "source": [
    "#initiate nominatim geolocator\n",
    "\n",
    "geolocator = Nominatim(user_agent=\"geoapiExercises\")\n"
   ]
  },
  {
   "cell_type": "code",
   "execution_count": 46,
   "id": "1ea10e56",
   "metadata": {},
   "outputs": [
    {
     "name": "stdout",
     "output_type": "stream",
     "text": [
      "[[ 7.161286  7.835325  2.911583 ... -0.364194 -0.364194 -0.364194]\n",
      " [ 0.225763 -0.094169 -0.603646 ...  0.936616  0.936616  0.936616]\n",
      " [-0.692525 -0.517801 -0.788035 ...  0.603755  0.603755  0.603755]\n",
      " ...\n",
      " [-0.77236  -0.670596 -0.84042  ... -0.515309 -0.515309 -0.515309]\n",
      " [-0.996965 -1.099395  3.515274 ...  0.074855  0.074855  0.074855]\n",
      " [-0.150911 -0.094333 -0.568885 ...  5.835585  5.835585  5.835585]]\n"
     ]
    }
   ],
   "source": [
    "#data loading\n",
    "\n",
    "X_data = np.loadtxt(os.path.join('data', 'default_plus_chromatic_features_1059_tracks.txt'), delimiter=',')\n",
    "Y_data = np.loadtxt(os.path.join('data', 'Y_encoding.txt'), delimiter=',')\n",
    "X = data[:, :116]\n",
    "y = Y_data"
   ]
  },
  {
   "cell_type": "code",
   "execution_count": 27,
   "id": "0c066951",
   "metadata": {},
   "outputs": [
    {
     "name": "stdout",
     "output_type": "stream",
     "text": [
      "['au', 'br', 'tz', 'id', 'ke', 'et', 'kh', 'ml', 'th', 'sn', 'cv', 'bz', 'jm', 'mm', 'tw', 'in', 'eg', 'pk', 'ma', 'ir', 'jp', 'dz', 'gr', 'tr', 'cn', 'uz', 'al', 'ge', 'it', 'kg', 'ro', 'gb', 'lt']\n"
     ]
    }
   ],
   "source": [
    "#translating longitude and latitude to country labels\n",
    "''''Y_labels = []\n",
    "\n",
    "y_unique = np.unique(y, axis=0)\n",
    "#print(y_unique)\n",
    "\n",
    "for point in range(0, y_unique.shape[0]):\n",
    "    latitude = y_unique[point,0]\n",
    "    longitude = y_unique[point,1]\n",
    "\n",
    "    location = geolocator.reverse((latitude, longitude))\n",
    "    \n",
    "    \n",
    "    Y_labels.append(location.raw['address']['country_code'])\n",
    "\n",
    "print(Y_labels) '''\n"
   ]
  },
  {
   "cell_type": "code",
   "execution_count": 43,
   "id": "a1d2355f",
   "metadata": {},
   "outputs": [
    {
     "name": "stdout",
     "output_type": "stream",
     "text": [
      "[0. 0. 0. 0. 0. 1. 0. 0. 0. 0. 0. 0. 0. 0. 0. 0. 0. 0. 0. 0. 0. 0. 0. 0.\n",
      " 0. 0. 0. 0. 0. 0. 0. 0. 0.]\n"
     ]
    }
   ],
   "source": [
    "#create one-hot encoded y matrix\n",
    "'''num_labels = 33\n",
    "\n",
    "Y_matrix = np.zeros((y.shape[0], num_labels))\n",
    "\n",
    "for point in range(0, y.shape[0]):\n",
    "    loc = np.where(y_unique == y[point, 0])[0]\n",
    "    Y_matrix[point, loc] = 1'''\n",
    "\n"
   ]
  },
  {
   "cell_type": "code",
   "execution_count": 44,
   "id": "853caafa",
   "metadata": {},
   "outputs": [],
   "source": [
    "#writing one-hot encoded matrix to new data file for ease of use\n",
    "'''np.savetxt('Y_encoding.txt', Y_matrix, delimiter=',')'''\n"
   ]
  },
  {
   "cell_type": "code",
   "execution_count": 59,
   "id": "c061219e",
   "metadata": {},
   "outputs": [],
   "source": [
    "#splitting data into train, cv, test\n",
    "\n",
    "split = skl.model_selection.train_test_split(X, y)\n",
    "\n",
    "train_x = split[0]\n",
    "train_y = split[2]\n",
    "\n",
    "cv_split = skl.model_selection.train_test_split(split[1], split[3])\n",
    "\n",
    "cv_x = cv_split[0]\n",
    "\n",
    "cv_y = cv_split[2]\n",
    "\n",
    "test_x = cv_split[1]\n",
    "\n",
    "text_y = cv_split[3]\n"
   ]
  },
  {
   "cell_type": "code",
   "execution_count": 60,
   "id": "cc580dee",
   "metadata": {},
   "outputs": [
    {
     "name": "stdout",
     "output_type": "stream",
     "text": [
      "Epoch 1/100\n"
     ]
    },
    {
     "ename": "InvalidArgumentError",
     "evalue": "Graph execution error:\n\nDetected at node 'sparse_categorical_crossentropy/SparseSoftmaxCrossEntropyWithLogits/SparseSoftmaxCrossEntropyWithLogits' defined at (most recent call last):\n    File \"C:\\Users\\Cassandra\\.conda\\envs\\ml\\lib\\runpy.py\", line 196, in _run_module_as_main\n      return _run_code(code, main_globals, None,\n    File \"C:\\Users\\Cassandra\\.conda\\envs\\ml\\lib\\runpy.py\", line 86, in _run_code\n      exec(code, run_globals)\n    File \"C:\\Users\\Cassandra\\.conda\\envs\\ml\\lib\\site-packages\\ipykernel_launcher.py\", line 17, in <module>\n      app.launch_new_instance()\n    File \"C:\\Users\\Cassandra\\.conda\\envs\\ml\\lib\\site-packages\\traitlets\\config\\application.py\", line 992, in launch_instance\n      app.start()\n    File \"C:\\Users\\Cassandra\\.conda\\envs\\ml\\lib\\site-packages\\ipykernel\\kernelapp.py\", line 711, in start\n      self.io_loop.start()\n    File \"C:\\Users\\Cassandra\\.conda\\envs\\ml\\lib\\site-packages\\tornado\\platform\\asyncio.py\", line 215, in start\n      self.asyncio_loop.run_forever()\n    File \"C:\\Users\\Cassandra\\.conda\\envs\\ml\\lib\\asyncio\\base_events.py\", line 603, in run_forever\n      self._run_once()\n    File \"C:\\Users\\Cassandra\\.conda\\envs\\ml\\lib\\asyncio\\base_events.py\", line 1906, in _run_once\n      handle._run()\n    File \"C:\\Users\\Cassandra\\.conda\\envs\\ml\\lib\\asyncio\\events.py\", line 80, in _run\n      self._context.run(self._callback, *self._args)\n    File \"C:\\Users\\Cassandra\\.conda\\envs\\ml\\lib\\site-packages\\ipykernel\\kernelbase.py\", line 510, in dispatch_queue\n      await self.process_one()\n    File \"C:\\Users\\Cassandra\\.conda\\envs\\ml\\lib\\site-packages\\ipykernel\\kernelbase.py\", line 499, in process_one\n      await dispatch(*args)\n    File \"C:\\Users\\Cassandra\\.conda\\envs\\ml\\lib\\site-packages\\ipykernel\\kernelbase.py\", line 406, in dispatch_shell\n      await result\n    File \"C:\\Users\\Cassandra\\.conda\\envs\\ml\\lib\\site-packages\\ipykernel\\kernelbase.py\", line 729, in execute_request\n      reply_content = await reply_content\n    File \"C:\\Users\\Cassandra\\.conda\\envs\\ml\\lib\\site-packages\\ipykernel\\ipkernel.py\", line 411, in do_execute\n      res = shell.run_cell(\n    File \"C:\\Users\\Cassandra\\.conda\\envs\\ml\\lib\\site-packages\\ipykernel\\zmqshell.py\", line 531, in run_cell\n      return super().run_cell(*args, **kwargs)\n    File \"C:\\Users\\Cassandra\\.conda\\envs\\ml\\lib\\site-packages\\IPython\\core\\interactiveshell.py\", line 2940, in run_cell\n      result = self._run_cell(\n    File \"C:\\Users\\Cassandra\\.conda\\envs\\ml\\lib\\site-packages\\IPython\\core\\interactiveshell.py\", line 2995, in _run_cell\n      return runner(coro)\n    File \"C:\\Users\\Cassandra\\.conda\\envs\\ml\\lib\\site-packages\\IPython\\core\\async_helpers.py\", line 129, in _pseudo_sync_runner\n      coro.send(None)\n    File \"C:\\Users\\Cassandra\\.conda\\envs\\ml\\lib\\site-packages\\IPython\\core\\interactiveshell.py\", line 3194, in run_cell_async\n      has_raised = await self.run_ast_nodes(code_ast.body, cell_name,\n    File \"C:\\Users\\Cassandra\\.conda\\envs\\ml\\lib\\site-packages\\IPython\\core\\interactiveshell.py\", line 3373, in run_ast_nodes\n      if await self.run_code(code, result, async_=asy):\n    File \"C:\\Users\\Cassandra\\.conda\\envs\\ml\\lib\\site-packages\\IPython\\core\\interactiveshell.py\", line 3433, in run_code\n      exec(code_obj, self.user_global_ns, self.user_ns)\n    File \"C:\\Users\\Cassandra\\AppData\\Local\\Temp\\ipykernel_9476\\3772407327.py\", line 9, in <module>\n      regression_model.fit(train_x, train_y, epochs=100)\n    File \"C:\\Users\\Cassandra\\.conda\\envs\\ml\\lib\\site-packages\\keras\\utils\\traceback_utils.py\", line 65, in error_handler\n      return fn(*args, **kwargs)\n    File \"C:\\Users\\Cassandra\\.conda\\envs\\ml\\lib\\site-packages\\keras\\engine\\training.py\", line 1564, in fit\n      tmp_logs = self.train_function(iterator)\n    File \"C:\\Users\\Cassandra\\.conda\\envs\\ml\\lib\\site-packages\\keras\\engine\\training.py\", line 1160, in train_function\n      return step_function(self, iterator)\n    File \"C:\\Users\\Cassandra\\.conda\\envs\\ml\\lib\\site-packages\\keras\\engine\\training.py\", line 1146, in step_function\n      outputs = model.distribute_strategy.run(run_step, args=(data,))\n    File \"C:\\Users\\Cassandra\\.conda\\envs\\ml\\lib\\site-packages\\keras\\engine\\training.py\", line 1135, in run_step\n      outputs = model.train_step(data)\n    File \"C:\\Users\\Cassandra\\.conda\\envs\\ml\\lib\\site-packages\\keras\\engine\\training.py\", line 994, in train_step\n      loss = self.compute_loss(x, y, y_pred, sample_weight)\n    File \"C:\\Users\\Cassandra\\.conda\\envs\\ml\\lib\\site-packages\\keras\\engine\\training.py\", line 1052, in compute_loss\n      return self.compiled_loss(\n    File \"C:\\Users\\Cassandra\\.conda\\envs\\ml\\lib\\site-packages\\keras\\engine\\compile_utils.py\", line 265, in __call__\n      loss_value = loss_obj(y_t, y_p, sample_weight=sw)\n    File \"C:\\Users\\Cassandra\\.conda\\envs\\ml\\lib\\site-packages\\keras\\losses.py\", line 152, in __call__\n      losses = call_fn(y_true, y_pred)\n    File \"C:\\Users\\Cassandra\\.conda\\envs\\ml\\lib\\site-packages\\keras\\losses.py\", line 272, in call\n      return ag_fn(y_true, y_pred, **self._fn_kwargs)\n    File \"C:\\Users\\Cassandra\\.conda\\envs\\ml\\lib\\site-packages\\keras\\losses.py\", line 2084, in sparse_categorical_crossentropy\n      return backend.sparse_categorical_crossentropy(\n    File \"C:\\Users\\Cassandra\\.conda\\envs\\ml\\lib\\site-packages\\keras\\backend.py\", line 5630, in sparse_categorical_crossentropy\n      res = tf.nn.sparse_softmax_cross_entropy_with_logits(\nNode: 'sparse_categorical_crossentropy/SparseSoftmaxCrossEntropyWithLogits/SparseSoftmaxCrossEntropyWithLogits'\nlogits and labels must have the same first dimension, got logits shape [32,33] and labels shape [1056]\n\t [[{{node sparse_categorical_crossentropy/SparseSoftmaxCrossEntropyWithLogits/SparseSoftmaxCrossEntropyWithLogits}}]] [Op:__inference_train_function_904]",
     "output_type": "error",
     "traceback": [
      "\u001b[1;31m---------------------------------------------------------------------------\u001b[0m",
      "\u001b[1;31mInvalidArgumentError\u001b[0m                      Traceback (most recent call last)",
      "Cell \u001b[1;32mIn[60], line 9\u001b[0m\n\u001b[0;32m      3\u001b[0m regression_model \u001b[38;5;241m=\u001b[39m Sequential([\n\u001b[0;32m      4\u001b[0m     Dense(units\u001b[38;5;241m=\u001b[39m\u001b[38;5;241m33\u001b[39m, activation \u001b[38;5;241m=\u001b[39m \u001b[38;5;124m'\u001b[39m\u001b[38;5;124msoftmax\u001b[39m\u001b[38;5;124m'\u001b[39m)\n\u001b[0;32m      5\u001b[0m ])\n\u001b[0;32m      7\u001b[0m regression_model\u001b[38;5;241m.\u001b[39mcompile(loss\u001b[38;5;241m=\u001b[39mSparseCategoricalCrossentropy())\n\u001b[1;32m----> 9\u001b[0m \u001b[43mregression_model\u001b[49m\u001b[38;5;241;43m.\u001b[39;49m\u001b[43mfit\u001b[49m\u001b[43m(\u001b[49m\u001b[43mtrain_x\u001b[49m\u001b[43m,\u001b[49m\u001b[43m \u001b[49m\u001b[43mtrain_y\u001b[49m\u001b[43m,\u001b[49m\u001b[43m \u001b[49m\u001b[43mepochs\u001b[49m\u001b[38;5;241;43m=\u001b[39;49m\u001b[38;5;241;43m100\u001b[39;49m\u001b[43m)\u001b[49m\n",
      "File \u001b[1;32m~\\.conda\\envs\\ml\\lib\\site-packages\\keras\\utils\\traceback_utils.py:70\u001b[0m, in \u001b[0;36mfilter_traceback.<locals>.error_handler\u001b[1;34m(*args, **kwargs)\u001b[0m\n\u001b[0;32m     67\u001b[0m     filtered_tb \u001b[38;5;241m=\u001b[39m _process_traceback_frames(e\u001b[38;5;241m.\u001b[39m__traceback__)\n\u001b[0;32m     68\u001b[0m     \u001b[38;5;66;03m# To get the full stack trace, call:\u001b[39;00m\n\u001b[0;32m     69\u001b[0m     \u001b[38;5;66;03m# `tf.debugging.disable_traceback_filtering()`\u001b[39;00m\n\u001b[1;32m---> 70\u001b[0m     \u001b[38;5;28;01mraise\u001b[39;00m e\u001b[38;5;241m.\u001b[39mwith_traceback(filtered_tb) \u001b[38;5;28;01mfrom\u001b[39;00m \u001b[38;5;28mNone\u001b[39m\n\u001b[0;32m     71\u001b[0m \u001b[38;5;28;01mfinally\u001b[39;00m:\n\u001b[0;32m     72\u001b[0m     \u001b[38;5;28;01mdel\u001b[39;00m filtered_tb\n",
      "File \u001b[1;32m~\\.conda\\envs\\ml\\lib\\site-packages\\tensorflow\\python\\eager\\execute.py:54\u001b[0m, in \u001b[0;36mquick_execute\u001b[1;34m(op_name, num_outputs, inputs, attrs, ctx, name)\u001b[0m\n\u001b[0;32m     52\u001b[0m \u001b[38;5;28;01mtry\u001b[39;00m:\n\u001b[0;32m     53\u001b[0m   ctx\u001b[38;5;241m.\u001b[39mensure_initialized()\n\u001b[1;32m---> 54\u001b[0m   tensors \u001b[38;5;241m=\u001b[39m pywrap_tfe\u001b[38;5;241m.\u001b[39mTFE_Py_Execute(ctx\u001b[38;5;241m.\u001b[39m_handle, device_name, op_name,\n\u001b[0;32m     55\u001b[0m                                       inputs, attrs, num_outputs)\n\u001b[0;32m     56\u001b[0m \u001b[38;5;28;01mexcept\u001b[39;00m core\u001b[38;5;241m.\u001b[39m_NotOkStatusException \u001b[38;5;28;01mas\u001b[39;00m e:\n\u001b[0;32m     57\u001b[0m   \u001b[38;5;28;01mif\u001b[39;00m name \u001b[38;5;129;01mis\u001b[39;00m \u001b[38;5;129;01mnot\u001b[39;00m \u001b[38;5;28;01mNone\u001b[39;00m:\n",
      "\u001b[1;31mInvalidArgumentError\u001b[0m: Graph execution error:\n\nDetected at node 'sparse_categorical_crossentropy/SparseSoftmaxCrossEntropyWithLogits/SparseSoftmaxCrossEntropyWithLogits' defined at (most recent call last):\n    File \"C:\\Users\\Cassandra\\.conda\\envs\\ml\\lib\\runpy.py\", line 196, in _run_module_as_main\n      return _run_code(code, main_globals, None,\n    File \"C:\\Users\\Cassandra\\.conda\\envs\\ml\\lib\\runpy.py\", line 86, in _run_code\n      exec(code, run_globals)\n    File \"C:\\Users\\Cassandra\\.conda\\envs\\ml\\lib\\site-packages\\ipykernel_launcher.py\", line 17, in <module>\n      app.launch_new_instance()\n    File \"C:\\Users\\Cassandra\\.conda\\envs\\ml\\lib\\site-packages\\traitlets\\config\\application.py\", line 992, in launch_instance\n      app.start()\n    File \"C:\\Users\\Cassandra\\.conda\\envs\\ml\\lib\\site-packages\\ipykernel\\kernelapp.py\", line 711, in start\n      self.io_loop.start()\n    File \"C:\\Users\\Cassandra\\.conda\\envs\\ml\\lib\\site-packages\\tornado\\platform\\asyncio.py\", line 215, in start\n      self.asyncio_loop.run_forever()\n    File \"C:\\Users\\Cassandra\\.conda\\envs\\ml\\lib\\asyncio\\base_events.py\", line 603, in run_forever\n      self._run_once()\n    File \"C:\\Users\\Cassandra\\.conda\\envs\\ml\\lib\\asyncio\\base_events.py\", line 1906, in _run_once\n      handle._run()\n    File \"C:\\Users\\Cassandra\\.conda\\envs\\ml\\lib\\asyncio\\events.py\", line 80, in _run\n      self._context.run(self._callback, *self._args)\n    File \"C:\\Users\\Cassandra\\.conda\\envs\\ml\\lib\\site-packages\\ipykernel\\kernelbase.py\", line 510, in dispatch_queue\n      await self.process_one()\n    File \"C:\\Users\\Cassandra\\.conda\\envs\\ml\\lib\\site-packages\\ipykernel\\kernelbase.py\", line 499, in process_one\n      await dispatch(*args)\n    File \"C:\\Users\\Cassandra\\.conda\\envs\\ml\\lib\\site-packages\\ipykernel\\kernelbase.py\", line 406, in dispatch_shell\n      await result\n    File \"C:\\Users\\Cassandra\\.conda\\envs\\ml\\lib\\site-packages\\ipykernel\\kernelbase.py\", line 729, in execute_request\n      reply_content = await reply_content\n    File \"C:\\Users\\Cassandra\\.conda\\envs\\ml\\lib\\site-packages\\ipykernel\\ipkernel.py\", line 411, in do_execute\n      res = shell.run_cell(\n    File \"C:\\Users\\Cassandra\\.conda\\envs\\ml\\lib\\site-packages\\ipykernel\\zmqshell.py\", line 531, in run_cell\n      return super().run_cell(*args, **kwargs)\n    File \"C:\\Users\\Cassandra\\.conda\\envs\\ml\\lib\\site-packages\\IPython\\core\\interactiveshell.py\", line 2940, in run_cell\n      result = self._run_cell(\n    File \"C:\\Users\\Cassandra\\.conda\\envs\\ml\\lib\\site-packages\\IPython\\core\\interactiveshell.py\", line 2995, in _run_cell\n      return runner(coro)\n    File \"C:\\Users\\Cassandra\\.conda\\envs\\ml\\lib\\site-packages\\IPython\\core\\async_helpers.py\", line 129, in _pseudo_sync_runner\n      coro.send(None)\n    File \"C:\\Users\\Cassandra\\.conda\\envs\\ml\\lib\\site-packages\\IPython\\core\\interactiveshell.py\", line 3194, in run_cell_async\n      has_raised = await self.run_ast_nodes(code_ast.body, cell_name,\n    File \"C:\\Users\\Cassandra\\.conda\\envs\\ml\\lib\\site-packages\\IPython\\core\\interactiveshell.py\", line 3373, in run_ast_nodes\n      if await self.run_code(code, result, async_=asy):\n    File \"C:\\Users\\Cassandra\\.conda\\envs\\ml\\lib\\site-packages\\IPython\\core\\interactiveshell.py\", line 3433, in run_code\n      exec(code_obj, self.user_global_ns, self.user_ns)\n    File \"C:\\Users\\Cassandra\\AppData\\Local\\Temp\\ipykernel_9476\\3772407327.py\", line 9, in <module>\n      regression_model.fit(train_x, train_y, epochs=100)\n    File \"C:\\Users\\Cassandra\\.conda\\envs\\ml\\lib\\site-packages\\keras\\utils\\traceback_utils.py\", line 65, in error_handler\n      return fn(*args, **kwargs)\n    File \"C:\\Users\\Cassandra\\.conda\\envs\\ml\\lib\\site-packages\\keras\\engine\\training.py\", line 1564, in fit\n      tmp_logs = self.train_function(iterator)\n    File \"C:\\Users\\Cassandra\\.conda\\envs\\ml\\lib\\site-packages\\keras\\engine\\training.py\", line 1160, in train_function\n      return step_function(self, iterator)\n    File \"C:\\Users\\Cassandra\\.conda\\envs\\ml\\lib\\site-packages\\keras\\engine\\training.py\", line 1146, in step_function\n      outputs = model.distribute_strategy.run(run_step, args=(data,))\n    File \"C:\\Users\\Cassandra\\.conda\\envs\\ml\\lib\\site-packages\\keras\\engine\\training.py\", line 1135, in run_step\n      outputs = model.train_step(data)\n    File \"C:\\Users\\Cassandra\\.conda\\envs\\ml\\lib\\site-packages\\keras\\engine\\training.py\", line 994, in train_step\n      loss = self.compute_loss(x, y, y_pred, sample_weight)\n    File \"C:\\Users\\Cassandra\\.conda\\envs\\ml\\lib\\site-packages\\keras\\engine\\training.py\", line 1052, in compute_loss\n      return self.compiled_loss(\n    File \"C:\\Users\\Cassandra\\.conda\\envs\\ml\\lib\\site-packages\\keras\\engine\\compile_utils.py\", line 265, in __call__\n      loss_value = loss_obj(y_t, y_p, sample_weight=sw)\n    File \"C:\\Users\\Cassandra\\.conda\\envs\\ml\\lib\\site-packages\\keras\\losses.py\", line 152, in __call__\n      losses = call_fn(y_true, y_pred)\n    File \"C:\\Users\\Cassandra\\.conda\\envs\\ml\\lib\\site-packages\\keras\\losses.py\", line 272, in call\n      return ag_fn(y_true, y_pred, **self._fn_kwargs)\n    File \"C:\\Users\\Cassandra\\.conda\\envs\\ml\\lib\\site-packages\\keras\\losses.py\", line 2084, in sparse_categorical_crossentropy\n      return backend.sparse_categorical_crossentropy(\n    File \"C:\\Users\\Cassandra\\.conda\\envs\\ml\\lib\\site-packages\\keras\\backend.py\", line 5630, in sparse_categorical_crossentropy\n      res = tf.nn.sparse_softmax_cross_entropy_with_logits(\nNode: 'sparse_categorical_crossentropy/SparseSoftmaxCrossEntropyWithLogits/SparseSoftmaxCrossEntropyWithLogits'\nlogits and labels must have the same first dimension, got logits shape [32,33] and labels shape [1056]\n\t [[{{node sparse_categorical_crossentropy/SparseSoftmaxCrossEntropyWithLogits/SparseSoftmaxCrossEntropyWithLogits}}]] [Op:__inference_train_function_904]"
     ]
    }
   ],
   "source": [
    "#One v. all logitistic regression for accuracy testing\n",
    "\n",
    "regression_model = Sequential([\n",
    "    Dense(units=33, activation = 'softmax')\n",
    "])\n",
    "\n",
    "regression_model.compile(loss=SparseCategoricalCrossentropy())\n",
    "\n",
    "regression_model.fit(train_x, train_y, epochs=100)"
   ]
  },
  {
   "cell_type": "code",
   "execution_count": null,
   "id": "03aa305c",
   "metadata": {},
   "outputs": [],
   "source": []
  }
 ],
 "metadata": {
  "kernelspec": {
   "display_name": "Python 3 (ipykernel)",
   "language": "python",
   "name": "python3"
  },
  "language_info": {
   "codemirror_mode": {
    "name": "ipython",
    "version": 3
   },
   "file_extension": ".py",
   "mimetype": "text/x-python",
   "name": "python",
   "nbconvert_exporter": "python",
   "pygments_lexer": "ipython3",
   "version": "3.10.9"
  }
 },
 "nbformat": 4,
 "nbformat_minor": 5
}
