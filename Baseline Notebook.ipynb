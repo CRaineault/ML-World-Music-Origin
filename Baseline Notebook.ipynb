{
 "cells": [
  {
   "cell_type": "code",
   "execution_count": 10,
   "id": "c1e79c93",
   "metadata": {},
   "outputs": [],
   "source": [
    "#very cool notebook to mess around and try things until we get a working baseline"
   ]
  },
  {
   "cell_type": "code",
   "execution_count": 37,
   "id": "6b33c713",
   "metadata": {},
   "outputs": [],
   "source": [
    "#imports, add more as needed\n",
    "import os\n",
    "\n",
    "import numpy as np\n",
    "\n",
    "import sklearn as skl\n",
    "\n",
    "from sklearn import model_selection\n",
    "\n",
    "import tensorflow as tf\n",
    "\n",
    "from matplotlib import pyplot\n",
    "\n",
    "from geopy.geocoders import Nominatim\n",
    "\n",
    "from tensorflow.keras import Sequential\n",
    "\n",
    "from tensorflow.keras.layers import Dense\n",
    "\n",
    "from tensorflow.keras.losses import SparseCategoricalCrossentropy\n",
    "\n",
    "from tensorflow.keras.activations import softmax\n"
   ]
  },
  {
   "cell_type": "code",
   "execution_count": 12,
   "id": "d3a09959",
   "metadata": {},
   "outputs": [],
   "source": [
    "#initiate nominatim geolocator\n",
    "\n",
    "geolocator = Nominatim(user_agent=\"geoapiExercises\")\n"
   ]
  },
  {
   "cell_type": "code",
   "execution_count": 14,
   "id": "1ea10e56",
   "metadata": {},
   "outputs": [],
   "source": [
    "#data loading\n",
    "\n",
    "X_data = np.loadtxt(os.path.join('data', 'default_plus_chromatic_features_1059_tracks.txt'), delimiter=',')\n",
    "Y_data = np.loadtxt(os.path.join('data', 'Y_encoding.txt'), delimiter=',')\n",
    "X = X_data[:, :116]\n",
    "y = Y_data"
   ]
  },
  {
   "cell_type": "code",
   "execution_count": null,
   "id": "0c066951",
   "metadata": {},
   "outputs": [],
   "source": [
    "#translating longitude and latitude to country labels\n",
    "''''Y_labels = []\n",
    "\n",
    "y_unique = np.unique(y, axis=0)\n",
    "#print(y_unique)\n",
    "\n",
    "for point in range(0, y_unique.shape[0]):\n",
    "    latitude = y_unique[point,0]\n",
    "    longitude = y_unique[point,1]\n",
    "\n",
    "    location = geolocator.reverse((latitude, longitude))\n",
    "    \n",
    "    \n",
    "    Y_labels.append(location.raw['address']['country_code'])\n",
    "\n",
    "print(Y_labels) '''\n"
   ]
  },
  {
   "cell_type": "code",
   "execution_count": null,
   "id": "a1d2355f",
   "metadata": {},
   "outputs": [],
   "source": [
    "#create one-hot encoded y matrix\n",
    "'''num_labels = 33\n",
    "\n",
    "Y_matrix = np.zeros((y.shape[0], num_labels))\n",
    "\n",
    "for point in range(0, y.shape[0]):\n",
    "    loc = np.where(y_unique == y[point, 0])[0]\n",
    "    Y_matrix[point, loc] = 1'''\n",
    "\n"
   ]
  },
  {
   "cell_type": "code",
   "execution_count": null,
   "id": "853caafa",
   "metadata": {},
   "outputs": [],
   "source": [
    "#writing one-hot encoded matrix to new data file for ease of use\n",
    "'''np.savetxt('Y_encoding.txt', Y_matrix, delimiter=',')'''\n"
   ]
  },
  {
   "cell_type": "code",
   "execution_count": 15,
   "id": "c061219e",
   "metadata": {},
   "outputs": [],
   "source": [
    "#splitting data into train, cv, test\n",
    "\n",
    "split = skl.model_selection.train_test_split(X, y)\n",
    "\n",
    "train_x = split[0]\n",
    "train_y = split[2]\n",
    "\n",
    "cv_split = skl.model_selection.train_test_split(split[1], split[3])\n",
    "\n",
    "cv_x = cv_split[0]\n",
    "\n",
    "cv_y = cv_split[2]\n",
    "\n",
    "test_x = cv_split[1]\n",
    "\n",
    "text_y = cv_split[3]\n"
   ]
  },
  {
   "cell_type": "code",
   "execution_count": 40,
   "id": "cc580dee",
   "metadata": {},
   "outputs": [
    {
     "ename": "NameError",
     "evalue": "name 'model' is not defined",
     "output_type": "error",
     "traceback": [
      "\u001b[1;31m---------------------------------------------------------------------------\u001b[0m",
      "\u001b[1;31mNameError\u001b[0m                                 Traceback (most recent call last)",
      "Cell \u001b[1;32mIn[40], line 8\u001b[0m\n\u001b[0;32m      1\u001b[0m \u001b[38;5;66;03m#One v. all logitistic regression for accuracy testing\u001b[39;00m\n\u001b[0;32m      3\u001b[0m regression_model \u001b[38;5;241m=\u001b[39m Sequential([\n\u001b[0;32m      4\u001b[0m     Dense(units\u001b[38;5;241m=\u001b[39m\u001b[38;5;241m10\u001b[39m, activation \u001b[38;5;241m=\u001b[39m\u001b[38;5;124m'\u001b[39m\u001b[38;5;124msoftmax\u001b[39m\u001b[38;5;124m'\u001b[39m)\n\u001b[0;32m      5\u001b[0m     \n\u001b[0;32m      6\u001b[0m ])\n\u001b[1;32m----> 8\u001b[0m logits \u001b[38;5;241m=\u001b[39m \u001b[43mmodel\u001b[49m(train_x)\n\u001b[0;32m     10\u001b[0m regression_model\u001b[38;5;241m.\u001b[39mcompile(loss\u001b[38;5;241m=\u001b[39mSparseCategoricalCrossentropy(from_logits\u001b[38;5;241m=\u001b[39m\u001b[38;5;28;01mTrue\u001b[39;00m))\n\u001b[0;32m     12\u001b[0m \u001b[38;5;28mprint\u001b[39m(train_x\u001b[38;5;241m.\u001b[39mshape)\n",
      "\u001b[1;31mNameError\u001b[0m: name 'model' is not defined"
     ]
    }
   ],
   "source": [
    "#One v. all logitistic regression for accuracy testing\n",
    "\n",
    "regression_model = Sequential([\n",
    "    Dense(units=10, activation ='softmax')\n",
    "    \n",
    "])\n",
    "\n",
    "regression_model.compile(loss=SparseCategoricalCrossentropy(from_logits=True))\n",
    "\n",
    "print(train_x.shape)\n",
    "\n",
    "print(train_y.shape)\n",
    "\n",
    "regression_model.fit(train_x, train_y, epochs=100)"
   ]
  },
  {
   "cell_type": "code",
   "execution_count": null,
   "id": "03aa305c",
   "metadata": {},
   "outputs": [],
   "source": [
    "def testAccuracy(result):\n",
    "    int counter = 0\n",
    "    for x in range(result.shape[0]):\n",
    "        for y in range(result.shape[1]):\n",
    "            if result[x, y] == train_y[x]:\n",
    "                counter +=1\n",
    "                \n",
    "accuracy = (counter/result.size) * 100"
   ]
  }
 ],
 "metadata": {
  "kernelspec": {
   "display_name": "Python 3 (ipykernel)",
   "language": "python",
   "name": "python3"
  },
  "language_info": {
   "codemirror_mode": {
    "name": "ipython",
    "version": 3
   },
   "file_extension": ".py",
   "mimetype": "text/x-python",
   "name": "python",
   "nbconvert_exporter": "python",
   "pygments_lexer": "ipython3",
   "version": "3.10.9"
  }
 },
 "nbformat": 4,
 "nbformat_minor": 5
}
